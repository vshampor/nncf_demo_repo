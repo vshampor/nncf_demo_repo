{
 "cells": [
  {
   "cell_type": "markdown",
   "id": "af7b6f13",
   "metadata": {},
   "source": [
    "This notebook runs through the process of enabling NNCF in a simple semantic segmentation pipeline for training UNet on Camvid, and comparing results against the POT's quantization."
   ]
  },
  {
   "cell_type": "code",
   "execution_count": null,
   "id": "27cb5c08",
   "metadata": {},
   "outputs": [],
   "source": [
    "!ls"
   ]
  },
  {
   "cell_type": "markdown",
   "id": "49c29922",
   "metadata": {},
   "source": [
    "Get the dataset:"
   ]
  },
  {
   "cell_type": "code",
   "execution_count": null,
   "id": "2a33c1af",
   "metadata": {},
   "outputs": [],
   "source": [
    "!git clone https://github.com/alexgkendall/SegNet-Tutorial data"
   ]
  },
  {
   "cell_type": "markdown",
   "id": "1c809451",
   "metadata": {},
   "source": [
    "Checkout the demo repo at the original, non-NNCF-enabled state:"
   ]
  },
  {
   "cell_type": "code",
   "execution_count": null,
   "id": "e5b9e8b5",
   "metadata": {},
   "outputs": [],
   "source": [
    "!git checkout baseline\n",
    "!git show"
   ]
  },
  {
   "cell_type": "markdown",
   "id": "24d32df7",
   "metadata": {},
   "source": [
    "Measure the baseline FP32 accuracy in PyTorch, produce an ONNX for future OpenVINO ingestion:"
   ]
  },
  {
   "cell_type": "code",
   "execution_count": null,
   "id": "ab64ffea",
   "metadata": {},
   "outputs": [],
   "source": [
    "!python3 main.py -m test export --resume unet_camvid.pth --data data/CamVid -b 1 --to-onnx unet_camvid.onnx"
   ]
  },
  {
   "cell_type": "markdown",
   "id": "c02839c0",
   "metadata": {},
   "source": [
    "Evaluate the FP32 model on OpenVINO (accuracy and performance):"
   ]
  },
  {
   "cell_type": "code",
   "execution_count": null,
   "id": "b4fc8b9d",
   "metadata": {},
   "outputs": [],
   "source": [
    "pip install openvino"
   ]
  },
  {
   "cell_type": "code",
   "execution_count": null,
   "id": "f97b6214",
   "metadata": {},
   "outputs": [],
   "source": [
    "pip install openvino-dev"
   ]
  },
  {
   "cell_type": "code",
   "execution_count": null,
   "id": "6b03409d",
   "metadata": {},
   "outputs": [],
   "source": [
    "!mo --input_model unet_camvid.onnx --mean_values [99.603,103.329,105.6567] --scale_values [75.643,77.821,76.746] --reverse_input_channels"
   ]
  },
  {
   "cell_type": "code",
   "execution_count": null,
   "id": "9b96b4a6",
   "metadata": {},
   "outputs": [],
   "source": [
    "!accuracy_check -c unet_camvid.yml -m unet_camvid.xml"
   ]
  },
  {
   "cell_type": "code",
   "execution_count": null,
   "id": "3f6c9dc0",
   "metadata": {},
   "outputs": [],
   "source": [
    "!benchmark_app -m unet_camvid.xml"
   ]
  },
  {
   "cell_type": "markdown",
   "id": "74242ffb",
   "metadata": {},
   "source": [
    "Use POT to obtain an INT8 model:"
   ]
  },
  {
   "cell_type": "code",
   "execution_count": null,
   "id": "194fe6fa",
   "metadata": {},
   "outputs": [],
   "source": [
    "!pot -q accuracy_aware --max-drop 0.01 -m unet_camvid.xml -w unet_camvid.bin --ac-config unet_camvid.yml --output-dir pot_int8 --name unet_camvid_pot_aa_int8 -e -d"
   ]
  },
  {
   "cell_type": "markdown",
   "id": "177da51c",
   "metadata": {},
   "source": [
    "Measure performance for the INT8-POT model (the accuracy results are already visible in the POT output above) "
   ]
  },
  {
   "cell_type": "code",
   "execution_count": null,
   "id": "7714b8a0",
   "metadata": {
    "scrolled": true
   },
   "outputs": [],
   "source": [
    "!benchmark_app -m pot_int8/optimized/unet_camvid_pot_aa_int8.xml"
   ]
  },
  {
   "cell_type": "markdown",
   "id": "b103e4f3",
   "metadata": {},
   "source": [
    "Try to achieve better results with NNCF; install the NNCF package from PyPI"
   ]
  },
  {
   "cell_type": "code",
   "execution_count": null,
   "id": "63177150",
   "metadata": {},
   "outputs": [],
   "source": [
    "pip install nncf"
   ]
  },
  {
   "cell_type": "markdown",
   "id": "acf52ada",
   "metadata": {},
   "source": [
    "Integrate NNCF into the training pipeline; the line below checks out the demo repo state with NNCF integrated to allow for producing NNCF-compressed INT8 models. 5 lines of code (excluding import statements) and a simple .json config is enough for this integration."
   ]
  },
  {
   "cell_type": "code",
   "execution_count": null,
   "id": "ffdd3a06",
   "metadata": {
    "scrolled": true
   },
   "outputs": [],
   "source": [
    "!git checkout with_nncf\n",
    "!git diff baseline with_nncf"
   ]
  },
  {
   "cell_type": "markdown",
   "id": "3b6eb082",
   "metadata": {},
   "source": [
    "Perform compression-aware fine-tuning using NNCF, starting from the regular PyTorch checkpoint (unet_camvid.pth), for 10 epochs, picking the best result and exporting it into an INT8 ONNX file (unet_camvid_int8.onnx)"
   ]
  },
  {
   "cell_type": "code",
   "execution_count": null,
   "id": "5407b25b",
   "metadata": {},
   "outputs": [],
   "source": [
    "!python3 main.py -m train test export --resume unet_camvid.pth --data data/CamVid -b 3 --epochs 10 --to-onnx unet_camvid_int8.onnx --nncf_config unet_camvid_int8.json"
   ]
  },
  {
   "cell_type": "markdown",
   "id": "7757acfe",
   "metadata": {},
   "source": [
    "Convert the NNCF-INT8 ONNX file into the NNCF-INT8 IR for OpenVINO ingestion"
   ]
  },
  {
   "cell_type": "code",
   "execution_count": null,
   "id": "8600f717",
   "metadata": {},
   "outputs": [],
   "source": [
    "!mo --input_model unet_camvid_int8.onnx --mean_values [99.603,103.329,105.6567] --scale_values [75.643,77.821,76.746] --reverse_input_channels"
   ]
  },
  {
   "cell_type": "markdown",
   "id": "86aa1555",
   "metadata": {},
   "source": [
    "Evaluate the NNCF-INT8 model in OpenVINO, accuracy and performance-wise:"
   ]
  },
  {
   "cell_type": "code",
   "execution_count": null,
   "id": "3631088b",
   "metadata": {},
   "outputs": [],
   "source": [
    "!accuracy_check -c unet_camvid.yml -m unet_camvid_int8.xml"
   ]
  },
  {
   "cell_type": "code",
   "execution_count": null,
   "id": "beadd11e",
   "metadata": {},
   "outputs": [],
   "source": [
    "!benchmark_app -m unet_camvid_int8.xml"
   ]
  }
 ],
 "metadata": {
  "kernelspec": {
   "display_name": "Python 3 (ipykernel)",
   "language": "python",
   "name": "python3"
  },
  "language_info": {
   "codemirror_mode": {
    "name": "ipython",
    "version": 3
   },
   "file_extension": ".py",
   "mimetype": "text/x-python",
   "name": "python",
   "nbconvert_exporter": "python",
   "pygments_lexer": "ipython3",
   "version": "3.7.9"
  }
 },
 "nbformat": 4,
 "nbformat_minor": 5
}
